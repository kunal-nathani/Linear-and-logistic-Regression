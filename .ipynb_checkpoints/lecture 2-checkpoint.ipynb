{
 "cells": [
  {
   "cell_type": "markdown",
   "id": "6d7ea8ae",
   "metadata": {},
   "source": [
    "## Numpy"
   ]
  },
  {
   "cell_type": "code",
   "execution_count": 4,
   "id": "efb91a14",
   "metadata": {},
   "outputs": [],
   "source": [
    "import numpy as np"
   ]
  },
  {
   "cell_type": "code",
   "execution_count": 5,
   "id": "274eeace",
   "metadata": {},
   "outputs": [],
   "source": [
    "np1=np.array([1,2,3,4])"
   ]
  },
  {
   "cell_type": "code",
   "execution_count": 6,
   "id": "27180f85",
   "metadata": {},
   "outputs": [
    {
     "data": {
      "text/plain": [
       "array([1, 2, 3, 4])"
      ]
     },
     "execution_count": 6,
     "metadata": {},
     "output_type": "execute_result"
    }
   ],
   "source": [
    "np1"
   ]
  },
  {
   "cell_type": "code",
   "execution_count": 7,
   "id": "154705f7",
   "metadata": {},
   "outputs": [
    {
     "data": {
      "text/plain": [
       "numpy.ndarray"
      ]
     },
     "execution_count": 7,
     "metadata": {},
     "output_type": "execute_result"
    }
   ],
   "source": [
    "type(np1)"
   ]
  },
  {
   "cell_type": "code",
   "execution_count": 8,
   "id": "7b788f44",
   "metadata": {},
   "outputs": [],
   "source": [
    "Mat1 = np.array([[1,2],[3,4]])"
   ]
  },
  {
   "cell_type": "code",
   "execution_count": 9,
   "id": "ef09b376",
   "metadata": {},
   "outputs": [
    {
     "data": {
      "text/plain": [
       "array([[1, 2],\n",
       "       [3, 4]])"
      ]
     },
     "execution_count": 9,
     "metadata": {},
     "output_type": "execute_result"
    }
   ],
   "source": [
    "Mat1"
   ]
  },
  {
   "cell_type": "code",
   "execution_count": 10,
   "id": "57ba6229",
   "metadata": {},
   "outputs": [
    {
     "data": {
      "text/plain": [
       "(4,)"
      ]
     },
     "execution_count": 10,
     "metadata": {},
     "output_type": "execute_result"
    }
   ],
   "source": [
    "np1.shape"
   ]
  },
  {
   "cell_type": "code",
   "execution_count": 11,
   "id": "b45362d8",
   "metadata": {},
   "outputs": [
    {
     "data": {
      "text/plain": [
       "(2, 2)"
      ]
     },
     "execution_count": 11,
     "metadata": {},
     "output_type": "execute_result"
    }
   ],
   "source": [
    "Mat1.shape"
   ]
  },
  {
   "cell_type": "code",
   "execution_count": 12,
   "id": "a19277fb",
   "metadata": {},
   "outputs": [
    {
     "data": {
      "text/plain": [
       "dtype('int32')"
      ]
     },
     "execution_count": 12,
     "metadata": {},
     "output_type": "execute_result"
    }
   ],
   "source": [
    "Mat1.dtype"
   ]
  },
  {
   "cell_type": "code",
   "execution_count": 13,
   "id": "da5d72b6",
   "metadata": {},
   "outputs": [],
   "source": [
    "Mat1[0,0] = 5"
   ]
  },
  {
   "cell_type": "code",
   "execution_count": 14,
   "id": "f070a960",
   "metadata": {},
   "outputs": [
    {
     "data": {
      "text/plain": [
       "array([[5, 2],\n",
       "       [3, 4]])"
      ]
     },
     "execution_count": 14,
     "metadata": {},
     "output_type": "execute_result"
    }
   ],
   "source": [
    "Mat1"
   ]
  },
  {
   "cell_type": "code",
   "execution_count": 15,
   "id": "9f7de0f1",
   "metadata": {},
   "outputs": [],
   "source": [
    "Mat2 = np.arange(0,10,1)"
   ]
  },
  {
   "cell_type": "code",
   "execution_count": 16,
   "id": "3a0d13fb",
   "metadata": {},
   "outputs": [
    {
     "data": {
      "text/plain": [
       "array([0, 1, 2, 3, 4, 5, 6, 7, 8, 9])"
      ]
     },
     "execution_count": 16,
     "metadata": {},
     "output_type": "execute_result"
    }
   ],
   "source": [
    "Mat2"
   ]
  },
  {
   "cell_type": "code",
   "execution_count": 17,
   "id": "682052f6",
   "metadata": {},
   "outputs": [],
   "source": [
    "mat3=np.linspace(0,10,20)"
   ]
  },
  {
   "cell_type": "code",
   "execution_count": 18,
   "id": "2e63238d",
   "metadata": {},
   "outputs": [
    {
     "data": {
      "text/plain": [
       "array([ 0.        ,  0.52631579,  1.05263158,  1.57894737,  2.10526316,\n",
       "        2.63157895,  3.15789474,  3.68421053,  4.21052632,  4.73684211,\n",
       "        5.26315789,  5.78947368,  6.31578947,  6.84210526,  7.36842105,\n",
       "        7.89473684,  8.42105263,  8.94736842,  9.47368421, 10.        ])"
      ]
     },
     "execution_count": 18,
     "metadata": {},
     "output_type": "execute_result"
    }
   ],
   "source": [
    "mat3"
   ]
  },
  {
   "cell_type": "code",
   "execution_count": 19,
   "id": "3d263434",
   "metadata": {},
   "outputs": [
    {
     "data": {
      "text/plain": [
       "(20,)"
      ]
     },
     "execution_count": 19,
     "metadata": {},
     "output_type": "execute_result"
    }
   ],
   "source": [
    "mat3.shape"
   ]
  },
  {
   "cell_type": "code",
   "execution_count": 20,
   "id": "c60ac4c0",
   "metadata": {},
   "outputs": [],
   "source": [
    "mat4 = np.random.rand(5,5)"
   ]
  },
  {
   "cell_type": "code",
   "execution_count": 21,
   "id": "e92d8622",
   "metadata": {},
   "outputs": [
    {
     "data": {
      "text/plain": [
       "array([[0.3832642 , 0.26652082, 0.3078936 , 0.7908272 , 0.69590787],\n",
       "       [0.6243963 , 0.94285581, 0.93115166, 0.40831189, 0.99318252],\n",
       "       [0.52123312, 0.84462344, 0.19467289, 0.68074077, 0.28656451],\n",
       "       [0.79215567, 0.54038611, 0.09349069, 0.05539986, 0.13803287],\n",
       "       [0.60399321, 0.77056806, 0.99643319, 0.52428694, 0.77698717]])"
      ]
     },
     "execution_count": 21,
     "metadata": {},
     "output_type": "execute_result"
    }
   ],
   "source": [
    "mat4"
   ]
  },
  {
   "cell_type": "code",
   "execution_count": 22,
   "id": "38dc1868",
   "metadata": {},
   "outputs": [],
   "source": [
    "mat5 = np.random.randn(5,5)"
   ]
  },
  {
   "cell_type": "code",
   "execution_count": 23,
   "id": "9dcf0065",
   "metadata": {},
   "outputs": [
    {
     "data": {
      "text/plain": [
       "array([[-6.18743883e-01, -5.71287924e-02, -2.24255282e-03,\n",
       "        -1.57973522e+00,  3.72537309e-01],\n",
       "       [-2.52665979e+00, -5.79692742e-01,  1.58978878e+00,\n",
       "         1.81180260e+00,  2.72876852e-01],\n",
       "       [-1.54046024e+00,  2.68902983e-02,  8.64542594e-02,\n",
       "         3.47724399e-01, -1.62919298e+00],\n",
       "       [-1.14201551e+00, -6.41838372e-02,  2.04838853e-01,\n",
       "        -1.80284015e+00,  7.91614922e-01],\n",
       "       [-1.97495595e+00, -5.18516534e-01, -2.02205337e+00,\n",
       "        -7.24002936e-01,  2.38121069e-01]])"
      ]
     },
     "execution_count": 23,
     "metadata": {},
     "output_type": "execute_result"
    }
   ],
   "source": [
    "mat5"
   ]
  },
  {
   "cell_type": "markdown",
   "id": "30d0af99",
   "metadata": {},
   "source": [
    "* np.diag\n",
    "* np.zeros\n",
    "* np.ones"
   ]
  },
  {
   "cell_type": "code",
   "execution_count": 24,
   "id": "11f7bc85",
   "metadata": {},
   "outputs": [
    {
     "data": {
      "text/plain": [
       "-0.6187438828460996"
      ]
     },
     "execution_count": 24,
     "metadata": {},
     "output_type": "execute_result"
    }
   ],
   "source": [
    "mat5[0,0]"
   ]
  },
  {
   "cell_type": "code",
   "execution_count": 25,
   "id": "364fec39",
   "metadata": {},
   "outputs": [
    {
     "data": {
      "text/plain": [
       "array([[-6.18743883e-01, -5.71287924e-02, -2.24255282e-03,\n",
       "        -1.57973522e+00,  3.72537309e-01],\n",
       "       [-2.52665979e+00, -5.79692742e-01,  1.58978878e+00,\n",
       "         1.81180260e+00,  2.72876852e-01],\n",
       "       [-1.54046024e+00,  2.68902983e-02,  8.64542594e-02,\n",
       "         3.47724399e-01, -1.62919298e+00],\n",
       "       [-1.14201551e+00, -6.41838372e-02,  2.04838853e-01,\n",
       "        -1.80284015e+00,  7.91614922e-01]])"
      ]
     },
     "execution_count": 25,
     "metadata": {},
     "output_type": "execute_result"
    }
   ],
   "source": [
    "mat5[0:4,:]"
   ]
  },
  {
   "cell_type": "markdown",
   "id": "7279f2fa",
   "metadata": {},
   "source": [
    "# pandas"
   ]
  },
  {
   "cell_type": "code",
   "execution_count": 26,
   "id": "af681d01",
   "metadata": {},
   "outputs": [],
   "source": [
    "import pandas as pd"
   ]
  },
  {
   "cell_type": "code",
   "execution_count": 27,
   "id": "3e7e629b",
   "metadata": {},
   "outputs": [],
   "source": [
    "data1 = pd.read_csv('C:/Users/Bhavesh Nathani/Desktop/python/Data Files/Linear Regression/Customer.csv',header = 0)"
   ]
  },
  {
   "cell_type": "code",
   "execution_count": 28,
   "id": "a476b177",
   "metadata": {},
   "outputs": [
    {
     "data": {
      "text/html": [
       "<div>\n",
       "<style scoped>\n",
       "    .dataframe tbody tr th:only-of-type {\n",
       "        vertical-align: middle;\n",
       "    }\n",
       "\n",
       "    .dataframe tbody tr th {\n",
       "        vertical-align: top;\n",
       "    }\n",
       "\n",
       "    .dataframe thead th {\n",
       "        text-align: right;\n",
       "    }\n",
       "</style>\n",
       "<table border=\"1\" class=\"dataframe\">\n",
       "  <thead>\n",
       "    <tr style=\"text-align: right;\">\n",
       "      <th></th>\n",
       "      <th>Customer ID</th>\n",
       "      <th>Customer Name</th>\n",
       "      <th>Segment</th>\n",
       "      <th>Age</th>\n",
       "      <th>Country</th>\n",
       "      <th>City</th>\n",
       "      <th>State</th>\n",
       "      <th>Postal Code</th>\n",
       "      <th>Region</th>\n",
       "    </tr>\n",
       "  </thead>\n",
       "  <tbody>\n",
       "    <tr>\n",
       "      <th>0</th>\n",
       "      <td>CG-12520</td>\n",
       "      <td>Claire Gute</td>\n",
       "      <td>Consumer</td>\n",
       "      <td>67</td>\n",
       "      <td>United States</td>\n",
       "      <td>Henderson</td>\n",
       "      <td>Kentucky</td>\n",
       "      <td>42420</td>\n",
       "      <td>South</td>\n",
       "    </tr>\n",
       "    <tr>\n",
       "      <th>1</th>\n",
       "      <td>DV-13045</td>\n",
       "      <td>Darrin Van Huff</td>\n",
       "      <td>Corporate</td>\n",
       "      <td>31</td>\n",
       "      <td>United States</td>\n",
       "      <td>Los Angeles</td>\n",
       "      <td>California</td>\n",
       "      <td>90036</td>\n",
       "      <td>West</td>\n",
       "    </tr>\n",
       "    <tr>\n",
       "      <th>2</th>\n",
       "      <td>SO-20335</td>\n",
       "      <td>Sean O'Donnell</td>\n",
       "      <td>Consumer</td>\n",
       "      <td>65</td>\n",
       "      <td>United States</td>\n",
       "      <td>Fort Lauderdale</td>\n",
       "      <td>Florida</td>\n",
       "      <td>33311</td>\n",
       "      <td>South</td>\n",
       "    </tr>\n",
       "    <tr>\n",
       "      <th>3</th>\n",
       "      <td>BH-11710</td>\n",
       "      <td>Brosina Hoffman</td>\n",
       "      <td>Consumer</td>\n",
       "      <td>20</td>\n",
       "      <td>United States</td>\n",
       "      <td>Los Angeles</td>\n",
       "      <td>California</td>\n",
       "      <td>90032</td>\n",
       "      <td>West</td>\n",
       "    </tr>\n",
       "    <tr>\n",
       "      <th>4</th>\n",
       "      <td>AA-10480</td>\n",
       "      <td>Andrew Allen</td>\n",
       "      <td>Consumer</td>\n",
       "      <td>50</td>\n",
       "      <td>United States</td>\n",
       "      <td>Concord</td>\n",
       "      <td>North Carolina</td>\n",
       "      <td>28027</td>\n",
       "      <td>South</td>\n",
       "    </tr>\n",
       "    <tr>\n",
       "      <th>5</th>\n",
       "      <td>IM-15070</td>\n",
       "      <td>Irene Maddox</td>\n",
       "      <td>Consumer</td>\n",
       "      <td>66</td>\n",
       "      <td>United States</td>\n",
       "      <td>Seattle</td>\n",
       "      <td>Washington</td>\n",
       "      <td>98103</td>\n",
       "      <td>West</td>\n",
       "    </tr>\n",
       "    <tr>\n",
       "      <th>6</th>\n",
       "      <td>HP-14815</td>\n",
       "      <td>Harold Pawlan</td>\n",
       "      <td>Home Office</td>\n",
       "      <td>20</td>\n",
       "      <td>United States</td>\n",
       "      <td>Fort Worth</td>\n",
       "      <td>Texas</td>\n",
       "      <td>76106</td>\n",
       "      <td>Central</td>\n",
       "    </tr>\n",
       "    <tr>\n",
       "      <th>7</th>\n",
       "      <td>PK-19075</td>\n",
       "      <td>Pete Kriz</td>\n",
       "      <td>Consumer</td>\n",
       "      <td>46</td>\n",
       "      <td>United States</td>\n",
       "      <td>Madison</td>\n",
       "      <td>Wisconsin</td>\n",
       "      <td>53711</td>\n",
       "      <td>Central</td>\n",
       "    </tr>\n",
       "    <tr>\n",
       "      <th>8</th>\n",
       "      <td>AG-10270</td>\n",
       "      <td>Alejandro Grove</td>\n",
       "      <td>Consumer</td>\n",
       "      <td>18</td>\n",
       "      <td>United States</td>\n",
       "      <td>West Jordan</td>\n",
       "      <td>Utah</td>\n",
       "      <td>84084</td>\n",
       "      <td>West</td>\n",
       "    </tr>\n",
       "    <tr>\n",
       "      <th>9</th>\n",
       "      <td>ZD-21925</td>\n",
       "      <td>Zuschuss Donatelli</td>\n",
       "      <td>Consumer</td>\n",
       "      <td>66</td>\n",
       "      <td>United States</td>\n",
       "      <td>San Francisco</td>\n",
       "      <td>California</td>\n",
       "      <td>94109</td>\n",
       "      <td>West</td>\n",
       "    </tr>\n",
       "  </tbody>\n",
       "</table>\n",
       "</div>"
      ],
      "text/plain": [
       "  Customer ID       Customer Name      Segment  Age        Country  \\\n",
       "0    CG-12520         Claire Gute     Consumer   67  United States   \n",
       "1    DV-13045     Darrin Van Huff    Corporate   31  United States   \n",
       "2    SO-20335      Sean O'Donnell     Consumer   65  United States   \n",
       "3    BH-11710     Brosina Hoffman     Consumer   20  United States   \n",
       "4    AA-10480        Andrew Allen     Consumer   50  United States   \n",
       "5    IM-15070        Irene Maddox     Consumer   66  United States   \n",
       "6    HP-14815       Harold Pawlan  Home Office   20  United States   \n",
       "7    PK-19075           Pete Kriz     Consumer   46  United States   \n",
       "8    AG-10270     Alejandro Grove     Consumer   18  United States   \n",
       "9    ZD-21925  Zuschuss Donatelli     Consumer   66  United States   \n",
       "\n",
       "              City           State  Postal Code   Region  \n",
       "0        Henderson        Kentucky        42420    South  \n",
       "1      Los Angeles      California        90036     West  \n",
       "2  Fort Lauderdale         Florida        33311    South  \n",
       "3      Los Angeles      California        90032     West  \n",
       "4          Concord  North Carolina        28027    South  \n",
       "5          Seattle      Washington        98103     West  \n",
       "6       Fort Worth           Texas        76106  Central  \n",
       "7          Madison       Wisconsin        53711  Central  \n",
       "8      West Jordan            Utah        84084     West  \n",
       "9    San Francisco      California        94109     West  "
      ]
     },
     "execution_count": 28,
     "metadata": {},
     "output_type": "execute_result"
    }
   ],
   "source": [
    "data1.head(10)"
   ]
  },
  {
   "cell_type": "code",
   "execution_count": 29,
   "id": "3642274d",
   "metadata": {},
   "outputs": [],
   "source": [
    "data2 = pd.read_csv('C:/Users/Bhavesh Nathani/Desktop/python/Data Files/Linear Regression/Customer.csv',header = 0, index_col = 0)"
   ]
  },
  {
   "cell_type": "code",
   "execution_count": 30,
   "id": "fed6192f",
   "metadata": {},
   "outputs": [
    {
     "data": {
      "text/html": [
       "<div>\n",
       "<style scoped>\n",
       "    .dataframe tbody tr th:only-of-type {\n",
       "        vertical-align: middle;\n",
       "    }\n",
       "\n",
       "    .dataframe tbody tr th {\n",
       "        vertical-align: top;\n",
       "    }\n",
       "\n",
       "    .dataframe thead th {\n",
       "        text-align: right;\n",
       "    }\n",
       "</style>\n",
       "<table border=\"1\" class=\"dataframe\">\n",
       "  <thead>\n",
       "    <tr style=\"text-align: right;\">\n",
       "      <th></th>\n",
       "      <th>Customer Name</th>\n",
       "      <th>Segment</th>\n",
       "      <th>Age</th>\n",
       "      <th>Country</th>\n",
       "      <th>City</th>\n",
       "      <th>State</th>\n",
       "      <th>Postal Code</th>\n",
       "      <th>Region</th>\n",
       "    </tr>\n",
       "    <tr>\n",
       "      <th>Customer ID</th>\n",
       "      <th></th>\n",
       "      <th></th>\n",
       "      <th></th>\n",
       "      <th></th>\n",
       "      <th></th>\n",
       "      <th></th>\n",
       "      <th></th>\n",
       "      <th></th>\n",
       "    </tr>\n",
       "  </thead>\n",
       "  <tbody>\n",
       "    <tr>\n",
       "      <th>CG-12520</th>\n",
       "      <td>Claire Gute</td>\n",
       "      <td>Consumer</td>\n",
       "      <td>67</td>\n",
       "      <td>United States</td>\n",
       "      <td>Henderson</td>\n",
       "      <td>Kentucky</td>\n",
       "      <td>42420</td>\n",
       "      <td>South</td>\n",
       "    </tr>\n",
       "    <tr>\n",
       "      <th>DV-13045</th>\n",
       "      <td>Darrin Van Huff</td>\n",
       "      <td>Corporate</td>\n",
       "      <td>31</td>\n",
       "      <td>United States</td>\n",
       "      <td>Los Angeles</td>\n",
       "      <td>California</td>\n",
       "      <td>90036</td>\n",
       "      <td>West</td>\n",
       "    </tr>\n",
       "    <tr>\n",
       "      <th>SO-20335</th>\n",
       "      <td>Sean O'Donnell</td>\n",
       "      <td>Consumer</td>\n",
       "      <td>65</td>\n",
       "      <td>United States</td>\n",
       "      <td>Fort Lauderdale</td>\n",
       "      <td>Florida</td>\n",
       "      <td>33311</td>\n",
       "      <td>South</td>\n",
       "    </tr>\n",
       "    <tr>\n",
       "      <th>BH-11710</th>\n",
       "      <td>Brosina Hoffman</td>\n",
       "      <td>Consumer</td>\n",
       "      <td>20</td>\n",
       "      <td>United States</td>\n",
       "      <td>Los Angeles</td>\n",
       "      <td>California</td>\n",
       "      <td>90032</td>\n",
       "      <td>West</td>\n",
       "    </tr>\n",
       "    <tr>\n",
       "      <th>AA-10480</th>\n",
       "      <td>Andrew Allen</td>\n",
       "      <td>Consumer</td>\n",
       "      <td>50</td>\n",
       "      <td>United States</td>\n",
       "      <td>Concord</td>\n",
       "      <td>North Carolina</td>\n",
       "      <td>28027</td>\n",
       "      <td>South</td>\n",
       "    </tr>\n",
       "  </tbody>\n",
       "</table>\n",
       "</div>"
      ],
      "text/plain": [
       "               Customer Name    Segment  Age        Country             City  \\\n",
       "Customer ID                                                                    \n",
       "CG-12520         Claire Gute   Consumer   67  United States        Henderson   \n",
       "DV-13045     Darrin Van Huff  Corporate   31  United States      Los Angeles   \n",
       "SO-20335      Sean O'Donnell   Consumer   65  United States  Fort Lauderdale   \n",
       "BH-11710     Brosina Hoffman   Consumer   20  United States      Los Angeles   \n",
       "AA-10480        Andrew Allen   Consumer   50  United States          Concord   \n",
       "\n",
       "                      State  Postal Code Region  \n",
       "Customer ID                                      \n",
       "CG-12520           Kentucky        42420  South  \n",
       "DV-13045         California        90036   West  \n",
       "SO-20335            Florida        33311  South  \n",
       "BH-11710         California        90032   West  \n",
       "AA-10480     North Carolina        28027  South  "
      ]
     },
     "execution_count": 30,
     "metadata": {},
     "output_type": "execute_result"
    }
   ],
   "source": [
    "data2.head()"
   ]
  },
  {
   "cell_type": "code",
   "execution_count": 31,
   "id": "490795b8",
   "metadata": {},
   "outputs": [
    {
     "data": {
      "text/html": [
       "<div>\n",
       "<style scoped>\n",
       "    .dataframe tbody tr th:only-of-type {\n",
       "        vertical-align: middle;\n",
       "    }\n",
       "\n",
       "    .dataframe tbody tr th {\n",
       "        vertical-align: top;\n",
       "    }\n",
       "\n",
       "    .dataframe thead th {\n",
       "        text-align: right;\n",
       "    }\n",
       "</style>\n",
       "<table border=\"1\" class=\"dataframe\">\n",
       "  <thead>\n",
       "    <tr style=\"text-align: right;\">\n",
       "      <th></th>\n",
       "      <th>Age</th>\n",
       "      <th>Postal Code</th>\n",
       "    </tr>\n",
       "  </thead>\n",
       "  <tbody>\n",
       "    <tr>\n",
       "      <th>count</th>\n",
       "      <td>793.000000</td>\n",
       "      <td>793.000000</td>\n",
       "    </tr>\n",
       "    <tr>\n",
       "      <th>mean</th>\n",
       "      <td>44.467844</td>\n",
       "      <td>55229.717528</td>\n",
       "    </tr>\n",
       "    <tr>\n",
       "      <th>std</th>\n",
       "      <td>15.526673</td>\n",
       "      <td>31679.223816</td>\n",
       "    </tr>\n",
       "    <tr>\n",
       "      <th>min</th>\n",
       "      <td>18.000000</td>\n",
       "      <td>1841.000000</td>\n",
       "    </tr>\n",
       "    <tr>\n",
       "      <th>25%</th>\n",
       "      <td>31.000000</td>\n",
       "      <td>27217.000000</td>\n",
       "    </tr>\n",
       "    <tr>\n",
       "      <th>50%</th>\n",
       "      <td>45.000000</td>\n",
       "      <td>55901.000000</td>\n",
       "    </tr>\n",
       "    <tr>\n",
       "      <th>75%</th>\n",
       "      <td>58.000000</td>\n",
       "      <td>90004.000000</td>\n",
       "    </tr>\n",
       "    <tr>\n",
       "      <th>max</th>\n",
       "      <td>70.000000</td>\n",
       "      <td>99207.000000</td>\n",
       "    </tr>\n",
       "  </tbody>\n",
       "</table>\n",
       "</div>"
      ],
      "text/plain": [
       "              Age   Postal Code\n",
       "count  793.000000    793.000000\n",
       "mean    44.467844  55229.717528\n",
       "std     15.526673  31679.223816\n",
       "min     18.000000   1841.000000\n",
       "25%     31.000000  27217.000000\n",
       "50%     45.000000  55901.000000\n",
       "75%     58.000000  90004.000000\n",
       "max     70.000000  99207.000000"
      ]
     },
     "execution_count": 31,
     "metadata": {},
     "output_type": "execute_result"
    }
   ],
   "source": [
    "data1.describe()"
   ]
  },
  {
   "cell_type": "code",
   "execution_count": 32,
   "id": "cd1e6bfd",
   "metadata": {},
   "outputs": [
    {
     "data": {
      "text/plain": [
       "Customer ID           CG-12520\n",
       "Customer Name      Claire Gute\n",
       "Segment               Consumer\n",
       "Age                         67\n",
       "Country          United States\n",
       "City                 Henderson\n",
       "State                 Kentucky\n",
       "Postal Code              42420\n",
       "Region                   South\n",
       "Name: 0, dtype: object"
      ]
     },
     "execution_count": 32,
     "metadata": {},
     "output_type": "execute_result"
    }
   ],
   "source": [
    "data1.iloc[0]"
   ]
  },
  {
   "cell_type": "code",
   "execution_count": 33,
   "id": "3beaa08e",
   "metadata": {},
   "outputs": [
    {
     "data": {
      "text/plain": [
       "Customer Name      Claire Gute\n",
       "Segment               Consumer\n",
       "Age                         67\n",
       "Country          United States\n",
       "City                 Henderson\n",
       "State                 Kentucky\n",
       "Postal Code              42420\n",
       "Region                   South\n",
       "Name: CG-12520, dtype: object"
      ]
     },
     "execution_count": 33,
     "metadata": {},
     "output_type": "execute_result"
    }
   ],
   "source": [
    "data2.loc[\"CG-12520\"]"
   ]
  },
  {
   "cell_type": "code",
   "execution_count": 34,
   "id": "39df0176",
   "metadata": {},
   "outputs": [
    {
     "data": {
      "text/plain": [
       "Customer Name      Claire Gute\n",
       "Segment               Consumer\n",
       "Age                         67\n",
       "Country          United States\n",
       "City                 Henderson\n",
       "State                 Kentucky\n",
       "Postal Code              42420\n",
       "Region                   South\n",
       "Name: CG-12520, dtype: object"
      ]
     },
     "execution_count": 34,
     "metadata": {},
     "output_type": "execute_result"
    }
   ],
   "source": [
    "data2.iloc[0]"
   ]
  },
  {
   "cell_type": "code",
   "execution_count": 35,
   "id": "dd642343",
   "metadata": {},
   "outputs": [
    {
     "data": {
      "text/html": [
       "<div>\n",
       "<style scoped>\n",
       "    .dataframe tbody tr th:only-of-type {\n",
       "        vertical-align: middle;\n",
       "    }\n",
       "\n",
       "    .dataframe tbody tr th {\n",
       "        vertical-align: top;\n",
       "    }\n",
       "\n",
       "    .dataframe thead th {\n",
       "        text-align: right;\n",
       "    }\n",
       "</style>\n",
       "<table border=\"1\" class=\"dataframe\">\n",
       "  <thead>\n",
       "    <tr style=\"text-align: right;\">\n",
       "      <th></th>\n",
       "      <th>Customer ID</th>\n",
       "      <th>Customer Name</th>\n",
       "      <th>Segment</th>\n",
       "      <th>Age</th>\n",
       "      <th>Country</th>\n",
       "      <th>City</th>\n",
       "      <th>State</th>\n",
       "      <th>Postal Code</th>\n",
       "      <th>Region</th>\n",
       "    </tr>\n",
       "  </thead>\n",
       "  <tbody>\n",
       "    <tr>\n",
       "      <th>0</th>\n",
       "      <td>CG-12520</td>\n",
       "      <td>Claire Gute</td>\n",
       "      <td>Consumer</td>\n",
       "      <td>67</td>\n",
       "      <td>United States</td>\n",
       "      <td>Henderson</td>\n",
       "      <td>Kentucky</td>\n",
       "      <td>42420</td>\n",
       "      <td>South</td>\n",
       "    </tr>\n",
       "    <tr>\n",
       "      <th>2</th>\n",
       "      <td>SO-20335</td>\n",
       "      <td>Sean O'Donnell</td>\n",
       "      <td>Consumer</td>\n",
       "      <td>65</td>\n",
       "      <td>United States</td>\n",
       "      <td>Fort Lauderdale</td>\n",
       "      <td>Florida</td>\n",
       "      <td>33311</td>\n",
       "      <td>South</td>\n",
       "    </tr>\n",
       "    <tr>\n",
       "      <th>4</th>\n",
       "      <td>AA-10480</td>\n",
       "      <td>Andrew Allen</td>\n",
       "      <td>Consumer</td>\n",
       "      <td>50</td>\n",
       "      <td>United States</td>\n",
       "      <td>Concord</td>\n",
       "      <td>North Carolina</td>\n",
       "      <td>28027</td>\n",
       "      <td>South</td>\n",
       "    </tr>\n",
       "  </tbody>\n",
       "</table>\n",
       "</div>"
      ],
      "text/plain": [
       "  Customer ID   Customer Name   Segment  Age        Country             City  \\\n",
       "0    CG-12520     Claire Gute  Consumer   67  United States        Henderson   \n",
       "2    SO-20335  Sean O'Donnell  Consumer   65  United States  Fort Lauderdale   \n",
       "4    AA-10480    Andrew Allen  Consumer   50  United States          Concord   \n",
       "\n",
       "            State  Postal Code Region  \n",
       "0        Kentucky        42420  South  \n",
       "2         Florida        33311  South  \n",
       "4  North Carolina        28027  South  "
      ]
     },
     "execution_count": 35,
     "metadata": {},
     "output_type": "execute_result"
    }
   ],
   "source": [
    "data1.iloc[0:5:2]"
   ]
  },
  {
   "cell_type": "markdown",
   "id": "dbcec448",
   "metadata": {},
   "source": [
    "# Seaborn"
   ]
  },
  {
   "cell_type": "code",
   "execution_count": 36,
   "id": "2537af0c",
   "metadata": {},
   "outputs": [],
   "source": [
    "import seaborn as sns"
   ]
  },
  {
   "cell_type": "code",
   "execution_count": 37,
   "id": "1579bdbc",
   "metadata": {},
   "outputs": [
    {
     "data": {
      "text/plain": [
       "<Axes: xlabel='Age', ylabel='Count'>"
      ]
     },
     "execution_count": 37,
     "metadata": {},
     "output_type": "execute_result"
    },
    {
     "data": {
      "image/png": "[encoded data removed]",
      "text/plain": [
       "<Figure size 640x480 with 1 Axes>"
      ]
     },
     "metadata": {},
     "output_type": "display_data"
    }
   ],
   "source": [
    "sns.histplot(data2.Age)"
   ]
  },
  {
   "cell_type": "code",
   "execution_count": 38,
   "id": "2c013500",
   "metadata": {},
   "outputs": [
    {
     "data": {
      "text/plain": [
       "<Axes: xlabel='Age', ylabel='Count'>"
      ]
     },
     "execution_count": 38,
     "metadata": {},
     "output_type": "execute_result"
    },
    {
     "data": {
      "image/png": "[encoded data removed]",
      "text/plain": [
       "<Figure size 640x480 with 1 Axes>"
      ]
     },
     "metadata": {},
     "output_type": "display_data"
    }
   ],
   "source": [
    "sns.histplot(data2.Age, kde = False)"
   ]
  },
  {
   "cell_type": "code",
   "execution_count": 39,
   "id": "32723fbb",
   "metadata": {},
   "outputs": [
    {
     "name": "stdout",
     "output_type": "stream",
     "text": [
      "Help on function distplot in module seaborn.distributions:\n",
      "\n",
      "distplot(a=None, bins=None, hist=True, kde=True, rug=False, fit=None, hist_kws=None, kde_kws=None, rug_kws=None, fit_kws=None, color=None, vertical=False, norm_hist=False, axlabel=None, label=None, ax=None, x=None)\n",
      "    DEPRECATED\n",
      "    \n",
      "    This function has been deprecated and will be removed in seaborn v0.14.0.\n",
      "    It has been replaced by :func:`histplot` and :func:`displot`, two functions\n",
      "    with a modern API and many more capabilities.\n",
      "    \n",
      "    For a guide to updating, please see this notebook:\n",
      "    \n",
      "    https://gist.github.com/mwaskom/de44147ed2974457ad6372750bbe5751\n",
      "\n"
     ]
    }
   ],
   "source": [
    "help(sns.distplot)"
   ]
  },
  {
   "cell_type": "code",
   "execution_count": 40,
   "id": "e21c9976",
   "metadata": {},
   "outputs": [
    {
     "data": {
      "text/plain": [
       "<Axes: xlabel='Age', ylabel='Count'>"
      ]
     },
     "execution_count": 40,
     "metadata": {},
     "output_type": "execute_result"
    },
    {
     "data": {
      "image/png": "[encoded data removed]",
      "text/plain": [
       "<Figure size 640x480 with 1 Axes>"
      ]
     },
     "metadata": {},
     "output_type": "display_data"
    }
   ],
   "source": [
    " sns.histplot(data2.Age, kde = False, color = \"red\")"
   ]
  }
 ],
 "metadata": {
  "kernelspec": {
   "display_name": "Python 3 (ipykernel)",
   "language": "python",
   "name": "python3"
  },
  "language_info": {
   "codemirror_mode": {
    "name": "ipython",
    "version": 3
   },
   "file_extension": ".py",
   "mimetype": "text/x-python",
   "name": "python",
   "nbconvert_exporter": "python",
   "pygments_lexer": "ipython3",
   "version": "3.10.9"
  }
 },
 "nbformat": 4,
 "nbformat_minor": 5
}
