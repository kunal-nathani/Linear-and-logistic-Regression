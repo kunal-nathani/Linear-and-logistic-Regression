{
 "cells": [
  {
   "cell_type": "code",
   "execution_count": 3,
   "id": "da3e3d44",
   "metadata": {},
   "outputs": [
    {
     "data": {
      "text/plain": [
       "3"
      ]
     },
     "execution_count": 3,
     "metadata": {},
     "output_type": "execute_result"
    }
   ],
   "source": [
    "1+2"
   ]
  },
  {
   "cell_type": "code",
   "execution_count": 6,
   "id": "ca830e4c",
   "metadata": {},
   "outputs": [],
   "source": [
    "str1=\"hi kunal here\""
   ]
  },
  {
   "cell_type": "code",
   "execution_count": 7,
   "id": "c67dda2d",
   "metadata": {},
   "outputs": [
    {
     "data": {
      "text/plain": [
       "'hi kunal here'"
      ]
     },
     "execution_count": 7,
     "metadata": {},
     "output_type": "execute_result"
    }
   ],
   "source": [
    "str1"
   ]
  },
  {
   "cell_type": "code",
   "execution_count": 8,
   "id": "320dfba9",
   "metadata": {},
   "outputs": [],
   "source": [
    "a=\"Gunner\""
   ]
  },
  {
   "cell_type": "code",
   "execution_count": 9,
   "id": "fb769ebc",
   "metadata": {},
   "outputs": [
    {
     "name": "stdout",
     "output_type": "stream",
     "text": [
      "hi Gunner here\n"
     ]
    }
   ],
   "source": [
    "print(\"hi {} here\".format(a))"
   ]
  },
  {
   "cell_type": "code",
   "execution_count": 11,
   "id": "bd964624",
   "metadata": {},
   "outputs": [],
   "source": [
    "var=69"
   ]
  },
  {
   "cell_type": "code",
   "execution_count": 13,
   "id": "455e14b0",
   "metadata": {},
   "outputs": [
    {
     "name": "stdout",
     "output_type": "stream",
     "text": [
      "hi Gunner here 69\n"
     ]
    }
   ],
   "source": [
    "print(\"hi {} here {}\".format(a,var))"
   ]
  },
  {
   "cell_type": "code",
   "execution_count": 15,
   "id": "43c11c24",
   "metadata": {},
   "outputs": [
    {
     "data": {
      "text/plain": [
       "'Funner'"
      ]
     },
     "execution_count": 15,
     "metadata": {},
     "output_type": "execute_result"
    }
   ],
   "source": [
    "len(a)\n",
    "a.replace(\"Gun\",\"Fun\")"
   ]
  },
  {
   "cell_type": "code",
   "execution_count": 17,
   "id": "647ba90d",
   "metadata": {},
   "outputs": [
    {
     "data": {
      "text/plain": [
       "'u'"
      ]
     },
     "execution_count": 17,
     "metadata": {},
     "output_type": "execute_result"
    }
   ],
   "source": [
    "a[1]"
   ]
  },
  {
   "cell_type": "code",
   "execution_count": null,
   "id": "a0f9c063",
   "metadata": {},
   "outputs": [],
   "source": []
  }
 ],
 "metadata": {
  "kernelspec": {
   "display_name": "Python 3 (ipykernel)",
   "language": "python",
   "name": "python3"
  },
  "language_info": {
   "codemirror_mode": {
    "name": "ipython",
    "version": 3
   },
   "file_extension": ".py",
   "mimetype": "text/x-python",
   "name": "python",
   "nbconvert_exporter": "python",
   "pygments_lexer": "ipython3",
   "version": "3.10.9"
  }
 },
 "nbformat": 4,
 "nbformat_minor": 5
}
